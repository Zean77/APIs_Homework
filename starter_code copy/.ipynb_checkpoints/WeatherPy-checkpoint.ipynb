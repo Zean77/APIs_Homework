{
 "cells": [
  {
   "cell_type": "markdown",
   "metadata": {},
   "source": [
    "# WeatherPy\n",
    "----\n",
    "\n",
    "#### Note\n",
    "* Instructions have been included for each segment. You do not have to follow them exactly, but they are included to help you think through the steps."
   ]
  },
  {
   "cell_type": "markdown",
   "metadata": {},
   "source": [
    "## Generate Cities List"
   ]
  },
  {
   "cell_type": "code",
   "execution_count": 25,
   "metadata": {},
   "outputs": [],
   "source": [
    "# Dependencies and Setup\n",
    "import matplotlib.pyplot as plt\n",
    "import pandas as pd\n",
    "import numpy as np\n",
    "import scipy.stats as st\n",
    "import requests\n",
    "import time\n",
    "from scipy.stats import linregress\n",
    "from api_keys import weather_api_key\n",
    "from citipy import citipy\n",
    "\n",
    "# Output File (CSV)\n",
    "output_data_file = \"../output_data/cities.csv\"\n",
    "\n",
    "# Range of latitudes and longitudes\n",
    "lat_range = (-90, 90)\n",
    "lng_range = (-180, 180)"
   ]
  },
  {
   "cell_type": "code",
   "execution_count": 2,
   "metadata": {},
   "outputs": [
    {
     "data": {
      "text/plain": [
       "593"
      ]
     },
     "execution_count": 2,
     "metadata": {},
     "output_type": "execute_result"
    }
   ],
   "source": [
    "# create lists to hold lat_lngs and cities information\n",
    "lat_lngs = []\n",
    "cities = []\n",
    "\n",
    "# Create a set of random lat and lng combinations\n",
    "lats = np.random.uniform(low=-90.000, high=90.000, size=1500)\n",
    "lngs = np.random.uniform(low=-180.000, high=180.000, size=1500)\n",
    "lat_lngs = zip(lats, lngs)\n",
    "\n",
    "\n",
    "for lat_lng in lat_lngs:\n",
    "    city = citipy.nearest_city(lat_lng[0], lat_lng[1]).city_name\n",
    "    \n",
    "    if city not in cities:\n",
    "        cities.append(city)\n",
    "\n",
    "len(cities)"
   ]
  },
  {
   "cell_type": "markdown",
   "metadata": {},
   "source": [
    "### Perform API Calls\n",
    "* Perform a weather check on each city using a series of successive API calls.\n",
    "* Include a print log of each city as it'sbeing processed (with the city number and city name).\n"
   ]
  },
  {
   "cell_type": "code",
   "execution_count": 3,
   "metadata": {},
   "outputs": [
    {
     "name": "stdout",
     "output_type": "stream",
     "text": [
      "http://api.openweathermap.org/data/2.5/weather?appid=5c9ddcecaab7c65c8929f51416d9937c&units=imperial&q=ormara\n"
     ]
    }
   ],
   "source": [
    "#OpenWeather Key\n",
    "api_key = weather_api_key\n",
    "query_url = f\"http://api.openweathermap.org/data/2.5/weather?appid={api_key}&units=imperial&q=\"\n",
    "\n",
    "# define count of pass throughs\n",
    "record_num = 0\n",
    "set_num = 1\n",
    "\n",
    "print(query_url+city)"
   ]
  },
  {
   "cell_type": "code",
   "execution_count": 4,
   "metadata": {},
   "outputs": [
    {
     "name": "stdout",
     "output_type": "stream",
     "text": [
      "------------------------\n",
      "Beginning Data Retrieval\n",
      "------------------------\n",
      "Processing Record 1 of Set 1 | souillac\n",
      "Processing Record 2 of Set 1 | taltal\n",
      "Processing Record 3 of Set 1 | sao jose da coroa grande\n",
      "Processing Record 4 of Set 1 | bredasdorp\n",
      "Processing Record 5 of Set 1 | albany\n",
      "Processing Record 6 of Set 1 | pithapuram\n",
      "Processing Record 7 of Set 1 | gat\n",
      "Processing Record 8 of Set 1 | lompoc\n",
      "Processing Record 9 of Set 1 | arraial do cabo\n",
      "Processing Record 10 of Set 1 | cap-aux-meules\n",
      "Processing Record 11 of Set 1 | cherskiy\n",
      "City not found. Skipping...\n",
      "Processing Record 12 of Set 1 | yellowknife\n",
      "Processing Record 13 of Set 1 | dahra\n",
      "City not found. Skipping...\n",
      "Processing Record 14 of Set 1 | rikitea\n",
      "City not found. Skipping...\n",
      "Processing Record 15 of Set 1 | castro\n",
      "Processing Record 16 of Set 1 | bambous virieux\n",
      "Processing Record 17 of Set 1 | atuona\n",
      "Processing Record 18 of Set 1 | brigantine\n",
      "Processing Record 19 of Set 1 | vaini\n",
      "Processing Record 20 of Set 1 | hithadhoo\n",
      "Processing Record 21 of Set 1 | laguna\n",
      "Processing Record 22 of Set 1 | husavik\n",
      "Processing Record 23 of Set 1 | hilo\n",
      "Processing Record 24 of Set 1 | ancud\n",
      "Processing Record 25 of Set 1 | longyearbyen\n",
      "Processing Record 26 of Set 1 | barrow\n",
      "Processing Record 27 of Set 1 | victoria\n",
      "Processing Record 28 of Set 1 | velikooktyabrskiy\n",
      "Processing Record 29 of Set 1 | talnakh\n",
      "Processing Record 30 of Set 1 | ixtapa\n",
      "Processing Record 31 of Set 1 | kodiak\n",
      "Processing Record 32 of Set 1 | riyadh\n",
      "Processing Record 33 of Set 1 | saint-augustin\n",
      "Processing Record 34 of Set 1 | teguise\n",
      "Processing Record 35 of Set 1 | cine\n",
      "City not found. Skipping...\n",
      "Processing Record 36 of Set 1 | nanortalik\n",
      "Processing Record 37 of Set 1 | touros\n",
      "Processing Record 38 of Set 1 | westport\n",
      "Processing Record 39 of Set 1 | vao\n",
      "Processing Record 40 of Set 1 | jamestown\n",
      "Processing Record 41 of Set 1 | mataura\n",
      "Processing Record 42 of Set 1 | punta arenas\n",
      "Processing Record 43 of Set 1 | tuktoyaktuk\n",
      "Processing Record 44 of Set 1 | busselton\n",
      "Processing Record 45 of Set 1 | rio grande\n",
      "Processing Record 46 of Set 1 | dikson\n",
      "City not found. Skipping...\n",
      "Processing Record 47 of Set 1 | ushuaia\n",
      "Processing Record 48 of Set 1 | caledon\n",
      "Processing Record 49 of Set 1 | makushino\n",
      "City not found. Skipping...\n",
      "Processing Record 50 of Set 1 | port lincoln\n",
      "Processing Record 1 of Set 2 | mopipi\n",
      "Processing Record 2 of Set 2 | richards bay\n",
      "Processing Record 3 of Set 2 | zavitinsk\n",
      "Processing Record 4 of Set 2 | anadyr\n",
      "Processing Record 5 of Set 2 | ryotsu\n",
      "Processing Record 6 of Set 2 | bluff\n",
      "Processing Record 7 of Set 2 | macenta\n",
      "Processing Record 8 of Set 2 | hasaki\n",
      "Processing Record 9 of Set 2 | parauna\n",
      "Processing Record 10 of Set 2 | solano\n",
      "Processing Record 11 of Set 2 | cape town\n",
      "Processing Record 12 of Set 2 | beloha\n",
      "Processing Record 13 of Set 2 | rocha\n",
      "Processing Record 14 of Set 2 | moorhead\n",
      "Processing Record 15 of Set 2 | san cristobal\n",
      "Processing Record 16 of Set 2 | muros\n",
      "Processing Record 17 of Set 2 | zyryanka\n",
      "Processing Record 18 of Set 2 | east london\n",
      "Processing Record 19 of Set 2 | sitka\n",
      "Processing Record 20 of Set 2 | rawson\n",
      "Processing Record 21 of Set 2 | hamilton\n",
      "Processing Record 22 of Set 2 | san patricio\n",
      "Processing Record 23 of Set 2 | ilulissat\n",
      "Processing Record 24 of Set 2 | caravelas\n",
      "Processing Record 25 of Set 2 | kapaa\n",
      "Processing Record 26 of Set 2 | kindu\n",
      "Processing Record 27 of Set 2 | chuy\n",
      "City not found. Skipping...\n",
      "Processing Record 28 of Set 2 | cidreira\n",
      "Processing Record 29 of Set 2 | port elizabeth\n",
      "Processing Record 30 of Set 2 | puerto ayora\n",
      "Processing Record 31 of Set 2 | lerwick\n",
      "Processing Record 32 of Set 2 | port alfred\n",
      "Processing Record 33 of Set 2 | vangaindrano\n",
      "Processing Record 34 of Set 2 | ribeira grande\n",
      "Processing Record 35 of Set 2 | murgab\n",
      "City not found. Skipping...\n",
      "Processing Record 36 of Set 2 | kirensk\n",
      "Processing Record 37 of Set 2 | kamaishi\n",
      "Processing Record 38 of Set 2 | makakilo city\n",
      "Processing Record 39 of Set 2 | labuhan\n",
      "Processing Record 40 of Set 2 | nabire\n",
      "Processing Record 41 of Set 2 | shingu\n",
      "Processing Record 42 of Set 2 | aksu\n",
      "Processing Record 43 of Set 2 | faanui\n",
      "Processing Record 44 of Set 2 | banda aceh\n",
      "Processing Record 45 of Set 2 | lebu\n",
      "Processing Record 46 of Set 2 | taoudenni\n",
      "Processing Record 47 of Set 2 | winnemucca\n",
      "Processing Record 48 of Set 2 | north battleford\n",
      "Processing Record 49 of Set 2 | provideniya\n",
      "City not found. Skipping...\n",
      "Processing Record 50 of Set 2 | sistranda\n",
      "City not found. Skipping...\n",
      "Processing Record 1 of Set 3 | kamyzyak\n",
      "Processing Record 2 of Set 3 | wanxian\n",
      "Processing Record 3 of Set 3 | deputatskiy\n",
      "Processing Record 4 of Set 3 | kiama\n",
      "Processing Record 5 of Set 3 | nouakchott\n",
      "Processing Record 6 of Set 3 | raudeberg\n",
      "Processing Record 7 of Set 3 | berlevag\n",
      "Processing Record 8 of Set 3 | takoradi\n",
      "Processing Record 9 of Set 3 | padang\n",
      "Processing Record 10 of Set 3 | poplar bluff\n",
      "Processing Record 11 of Set 3 | balikpapan\n",
      "Processing Record 12 of Set 3 | contamana\n",
      "Processing Record 13 of Set 3 | borovoy\n",
      "Processing Record 14 of Set 3 | mar del plata\n",
      "Processing Record 15 of Set 3 | katsuura\n",
      "Processing Record 16 of Set 3 | inuvik\n",
      "Processing Record 17 of Set 3 | necochea\n",
      "Processing Record 18 of Set 3 | nisia floresta\n",
      "Processing Record 19 of Set 3 | vila velha\n",
      "Processing Record 20 of Set 3 | ayan\n",
      "Processing Record 21 of Set 3 | newtownards\n",
      "Processing Record 22 of Set 3 | chokurdakh\n",
      "Processing Record 23 of Set 3 | lata\n",
      "Processing Record 24 of Set 3 | tairua\n",
      "Processing Record 25 of Set 3 | sohna\n",
      "City not found. Skipping...\n",
      "City not found. Skipping...\n",
      "Processing Record 26 of Set 3 | hermanus\n",
      "Processing Record 27 of Set 3 | stromness\n",
      "City not found. Skipping...\n",
      "Processing Record 28 of Set 3 | namatanai\n",
      "Processing Record 29 of Set 3 | bengkulu\n",
      "Processing Record 30 of Set 3 | melfi\n",
      "City not found. Skipping...\n",
      "Processing Record 31 of Set 3 | pacific grove\n",
      "Processing Record 32 of Set 3 | carnarvon\n",
      "Processing Record 33 of Set 3 | musoma\n",
      "Processing Record 34 of Set 3 | saint-philippe\n",
      "Processing Record 35 of Set 3 | port hardy\n",
      "Processing Record 36 of Set 3 | lasa\n",
      "Processing Record 37 of Set 3 | butaritari\n",
      "Processing Record 38 of Set 3 | vilhena\n",
      "Processing Record 39 of Set 3 | hobart\n",
      "Processing Record 40 of Set 3 | zhangye\n",
      "Processing Record 41 of Set 3 | thompson\n",
      "Processing Record 42 of Set 3 | nemuro\n",
      "Processing Record 43 of Set 3 | puerto del rosario\n",
      "City not found. Skipping...\n",
      "Processing Record 44 of Set 3 | farafangana\n",
      "Processing Record 45 of Set 3 | vanino\n",
      "Processing Record 46 of Set 3 | pisco\n",
      "Processing Record 47 of Set 3 | kaeo\n",
      "Processing Record 48 of Set 3 | kenai\n",
      "Processing Record 49 of Set 3 | luderitz\n",
      "Processing Record 50 of Set 3 | bilma\n",
      "Processing Record 1 of Set 4 | asyut\n",
      "Processing Record 2 of Set 4 | shihezi\n",
      "Processing Record 3 of Set 4 | sokoni\n",
      "Processing Record 4 of Set 4 | matamoros\n",
      "Processing Record 5 of Set 4 | vardo\n",
      "Processing Record 6 of Set 4 | romitan\n",
      "Processing Record 7 of Set 4 | kamenka\n",
      "Processing Record 8 of Set 4 | coihueco\n",
      "Processing Record 9 of Set 4 | port blair\n",
      "City not found. Skipping...\n",
      "Processing Record 10 of Set 4 | khandbari\n",
      "Processing Record 11 of Set 4 | norman wells\n",
      "Processing Record 12 of Set 4 | oranjemund\n",
      "Processing Record 13 of Set 4 | kuminskiy\n",
      "City not found. Skipping...\n",
      "Processing Record 14 of Set 4 | codrington\n",
      "Processing Record 15 of Set 4 | san juan\n",
      "Processing Record 16 of Set 4 | san quintin\n",
      "Processing Record 17 of Set 4 | egvekinot\n",
      "City not found. Skipping...\n",
      "Processing Record 18 of Set 4 | qaanaaq\n",
      "Processing Record 19 of Set 4 | kyren\n",
      "Processing Record 20 of Set 4 | tuatapere\n",
      "City not found. Skipping...\n",
      "Processing Record 21 of Set 4 | pangnirtung\n",
      "Processing Record 22 of Set 4 | sydney\n",
      "Processing Record 23 of Set 4 | adrar\n",
      "Processing Record 24 of Set 4 | novopokrovka\n",
      "Processing Record 25 of Set 4 | hobyo\n",
      "Processing Record 26 of Set 4 | portland\n",
      "City not found. Skipping...\n",
      "Processing Record 27 of Set 4 | mys shmidta\n",
      "Processing Record 28 of Set 4 | mount isa\n",
      "Processing Record 29 of Set 4 | acarau\n",
      "Processing Record 30 of Set 4 | leningradskiy\n",
      "Processing Record 31 of Set 4 | ahipara\n",
      "Processing Record 32 of Set 4 | severo-kurilsk\n",
      "City not found. Skipping...\n",
      "Processing Record 33 of Set 4 | fayaoue\n",
      "Processing Record 34 of Set 4 | valdivia\n",
      "Processing Record 35 of Set 4 | chicama\n"
     ]
    },
    {
     "name": "stdout",
     "output_type": "stream",
     "text": [
      "Processing Record 36 of Set 4 | lavrentiya\n",
      "Processing Record 37 of Set 4 | nikolskoye\n",
      "Processing Record 38 of Set 4 | saskylakh\n",
      "City not found. Skipping...\n",
      "Processing Record 39 of Set 4 | hualmay\n",
      "Processing Record 40 of Set 4 | tabou\n",
      "Processing Record 41 of Set 4 | kahului\n",
      "Processing Record 42 of Set 4 | eyl\n",
      "Processing Record 43 of Set 4 | grindavik\n",
      "City not found. Skipping...\n",
      "Processing Record 44 of Set 4 | zhigansk\n",
      "Processing Record 45 of Set 4 | atambua\n",
      "Processing Record 46 of Set 4 | rudbar\n",
      "Processing Record 47 of Set 4 | roald\n",
      "Processing Record 48 of Set 4 | tual\n",
      "Processing Record 49 of Set 4 | nioro\n",
      "Processing Record 50 of Set 4 | sao filipe\n",
      "Processing Record 1 of Set 5 | kruisfontein\n",
      "Processing Record 2 of Set 5 | graaff-reinet\n",
      "Processing Record 3 of Set 5 | iqaluit\n",
      "Processing Record 4 of Set 5 | college\n",
      "Processing Record 5 of Set 5 | yulara\n",
      "Processing Record 6 of Set 5 | lorengau\n",
      "Processing Record 7 of Set 5 | half moon bay\n",
      "Processing Record 8 of Set 5 | belmonte\n",
      "Processing Record 9 of Set 5 | tekeli\n",
      "Processing Record 10 of Set 5 | tiksi\n",
      "City not found. Skipping...\n",
      "Processing Record 11 of Set 5 | agadez\n",
      "Processing Record 12 of Set 5 | puerto escondido\n",
      "Processing Record 13 of Set 5 | alyangula\n",
      "Processing Record 14 of Set 5 | kundiawa\n",
      "Processing Record 15 of Set 5 | george\n",
      "Processing Record 16 of Set 5 | namibe\n",
      "Processing Record 17 of Set 5 | dingle\n",
      "Processing Record 18 of Set 5 | cabo san lucas\n",
      "Processing Record 19 of Set 5 | mokhotlong\n",
      "Processing Record 20 of Set 5 | khatanga\n",
      "Processing Record 21 of Set 5 | clyde river\n",
      "Processing Record 22 of Set 5 | naze\n",
      "Processing Record 23 of Set 5 | plettenberg bay\n",
      "Processing Record 24 of Set 5 | sinnamary\n",
      "Processing Record 25 of Set 5 | araouane\n",
      "Processing Record 26 of Set 5 | tasiilaq\n",
      "Processing Record 27 of Set 5 | kieta\n",
      "Processing Record 28 of Set 5 | margate\n",
      "Processing Record 29 of Set 5 | dano\n",
      "Processing Record 30 of Set 5 | kaitangata\n",
      "Processing Record 31 of Set 5 | bowen\n",
      "Processing Record 32 of Set 5 | bethel\n",
      "Processing Record 33 of Set 5 | wajir\n",
      "Processing Record 34 of Set 5 | juruti\n",
      "Processing Record 35 of Set 5 | salalah\n",
      "Processing Record 36 of Set 5 | saint-pierre\n",
      "City not found. Skipping...\n",
      "Processing Record 37 of Set 5 | doha\n",
      "Processing Record 38 of Set 5 | barkot\n",
      "Processing Record 39 of Set 5 | deer lake\n",
      "Processing Record 40 of Set 5 | manjacaze\n",
      "Processing Record 41 of Set 5 | chitral\n",
      "Processing Record 42 of Set 5 | grinnell\n",
      "Processing Record 43 of Set 5 | hjelset\n",
      "Processing Record 44 of Set 5 | mednogorsk\n",
      "Processing Record 45 of Set 5 | darnah\n",
      "Processing Record 46 of Set 5 | lagos\n",
      "Processing Record 47 of Set 5 | jhargram\n",
      "Processing Record 48 of Set 5 | sribne\n",
      "Processing Record 49 of Set 5 | wasilla\n",
      "Processing Record 50 of Set 5 | wagar\n",
      "Processing Record 1 of Set 6 | cayambe\n",
      "Processing Record 2 of Set 6 | mazagao\n",
      "Processing Record 3 of Set 6 | nhulunbuy\n",
      "Processing Record 4 of Set 6 | chalisgaon\n",
      "Processing Record 5 of Set 6 | reykjavik\n",
      "Processing Record 6 of Set 6 | lagoa\n",
      "Processing Record 7 of Set 6 | bandarbeyla\n",
      "Processing Record 8 of Set 6 | palmer\n",
      "Processing Record 9 of Set 6 | geraldton\n",
      "Processing Record 10 of Set 6 | kiunga\n",
      "Processing Record 11 of Set 6 | avarua\n",
      "Processing Record 12 of Set 6 | poum\n",
      "Processing Record 13 of Set 6 | banjarmasin\n",
      "City not found. Skipping...\n",
      "Processing Record 14 of Set 6 | byron bay\n",
      "City not found. Skipping...\n",
      "Processing Record 15 of Set 6 | zhenlai\n",
      "Processing Record 16 of Set 6 | sao joao da barra\n",
      "Processing Record 17 of Set 6 | floridia\n",
      "Processing Record 18 of Set 6 | mayo\n",
      "Processing Record 19 of Set 6 | coquimbo\n",
      "Processing Record 20 of Set 6 | livingstonia\n",
      "Processing Record 21 of Set 6 | saint-francois\n",
      "Processing Record 22 of Set 6 | yerbogachen\n",
      "City not found. Skipping...\n",
      "Processing Record 23 of Set 6 | inirida\n",
      "Processing Record 24 of Set 6 | meulaboh\n",
      "Processing Record 25 of Set 6 | narsaq\n",
      "Processing Record 26 of Set 6 | uyar\n",
      "Processing Record 27 of Set 6 | bulgan\n",
      "City not found. Skipping...\n",
      "Processing Record 28 of Set 6 | valley city\n",
      "Processing Record 29 of Set 6 | georgetown\n",
      "City not found. Skipping...\n",
      "Processing Record 30 of Set 6 | corvallis\n",
      "Processing Record 31 of Set 6 | tome\n",
      "Processing Record 32 of Set 6 | semirom\n",
      "Processing Record 33 of Set 6 | tiznit\n",
      "Processing Record 34 of Set 6 | kailua\n",
      "Processing Record 35 of Set 6 | kununurra\n",
      "Processing Record 36 of Set 6 | japura\n",
      "Processing Record 37 of Set 6 | najran\n",
      "Processing Record 38 of Set 6 | zharkovskiy\n",
      "Processing Record 39 of Set 6 | kaura namoda\n",
      "Processing Record 40 of Set 6 | port-gentil\n",
      "Processing Record 41 of Set 6 | camopi\n",
      "Processing Record 42 of Set 6 | diffa\n",
      "Processing Record 43 of Set 6 | ponta do sol\n",
      "Processing Record 44 of Set 6 | grand centre\n",
      "Processing Record 45 of Set 6 | jalu\n",
      "Processing Record 46 of Set 6 | upernavik\n",
      "Processing Record 47 of Set 6 | klaksvik\n",
      "Processing Record 48 of Set 6 | kirakira\n",
      "City not found. Skipping...\n",
      "City not found. Skipping...\n",
      "Processing Record 49 of Set 6 | chapada dos guimaraes\n",
      "Processing Record 50 of Set 6 | mugur-aksy\n",
      "Processing Record 1 of Set 7 | moses lake\n",
      "Processing Record 2 of Set 7 | zinder\n",
      "Processing Record 3 of Set 7 | isangel\n",
      "Processing Record 4 of Set 7 | porto empedocle\n",
      "Processing Record 5 of Set 7 | pevek\n",
      "Processing Record 6 of Set 7 | ambo\n",
      "Processing Record 7 of Set 7 | pleasanton\n",
      "Processing Record 8 of Set 7 | haines junction\n",
      "Processing Record 9 of Set 7 | carutapera\n",
      "Processing Record 10 of Set 7 | sandwick\n",
      "Processing Record 11 of Set 7 | hammerfest\n",
      "Processing Record 12 of Set 7 | eureka\n",
      "Processing Record 13 of Set 7 | torbay\n",
      "Processing Record 14 of Set 7 | soubre\n",
      "Processing Record 15 of Set 7 | maymyo\n",
      "Processing Record 16 of Set 7 | kysyl-syr\n",
      "Processing Record 17 of Set 7 | samastipur\n",
      "Processing Record 18 of Set 7 | san anselmo\n",
      "Processing Record 19 of Set 7 | pocking\n",
      "Processing Record 20 of Set 7 | xuanwu\n",
      "Processing Record 21 of Set 7 | vila do maio\n",
      "Processing Record 22 of Set 7 | suicheng\n",
      "Processing Record 23 of Set 7 | san marcos de colon\n",
      "City not found. Skipping...\n",
      "Processing Record 24 of Set 7 | mount gambier\n",
      "Processing Record 25 of Set 7 | sungaipenuh\n",
      "Processing Record 26 of Set 7 | canon city\n",
      "Processing Record 27 of Set 7 | nadym\n",
      "Processing Record 28 of Set 7 | paros\n",
      "Processing Record 29 of Set 7 | vanimo\n",
      "Processing Record 30 of Set 7 | svetlaya\n",
      "Processing Record 31 of Set 7 | viedma\n",
      "Processing Record 32 of Set 7 | tzaneen\n",
      "Processing Record 33 of Set 7 | rio tercero\n",
      "Processing Record 34 of Set 7 | muzhi\n",
      "Processing Record 35 of Set 7 | denpasar\n",
      "Processing Record 36 of Set 7 | marawi\n",
      "Processing Record 37 of Set 7 | davila\n",
      "Processing Record 38 of Set 7 | mutis\n",
      "Processing Record 39 of Set 7 | yeppoon\n",
      "Processing Record 40 of Set 7 | raga\n",
      "City not found. Skipping...\n",
      "Processing Record 41 of Set 7 | khash\n",
      "City not found. Skipping...\n",
      "Processing Record 42 of Set 7 | inhambane\n",
      "Processing Record 43 of Set 7 | cabra\n",
      "Processing Record 44 of Set 7 | bairiki\n",
      "Processing Record 45 of Set 7 | teknaf\n",
      "Processing Record 46 of Set 7 | ginda\n",
      "Processing Record 47 of Set 7 | clarence town\n",
      "Processing Record 48 of Set 7 | avera\n",
      "Processing Record 49 of Set 7 | ostrovnoy\n",
      "Processing Record 50 of Set 7 | palasa\n",
      "Processing Record 1 of Set 8 | mamlyutka\n",
      "Processing Record 2 of Set 8 | samarai\n",
      "Processing Record 3 of Set 8 | strezhevoy\n",
      "Processing Record 4 of Set 8 | new norfolk\n",
      "Processing Record 5 of Set 8 | caiaponia\n",
      "Processing Record 6 of Set 8 | mahebourg\n",
      "Processing Record 7 of Set 8 | archidona\n",
      "Processing Record 8 of Set 8 | almaznyy\n",
      "Processing Record 9 of Set 8 | grand-santi\n",
      "Processing Record 10 of Set 8 | ambilobe\n",
      "Processing Record 11 of Set 8 | belaya gora\n",
      "Processing Record 12 of Set 8 | venice\n",
      "Processing Record 13 of Set 8 | vallenar\n",
      "Processing Record 14 of Set 8 | chara\n",
      "Processing Record 15 of Set 8 | karaton\n",
      "Processing Record 16 of Set 8 | zemio\n",
      "Processing Record 17 of Set 8 | gao\n",
      "Processing Record 18 of Set 8 | vestmanna\n",
      "Processing Record 19 of Set 8 | sisimiut\n",
      "Processing Record 20 of Set 8 | ruwi\n",
      "Processing Record 21 of Set 8 | soe\n",
      "Processing Record 22 of Set 8 | ermelo\n",
      "Processing Record 23 of Set 8 | mayumba\n",
      "Processing Record 24 of Set 8 | beringovskiy\n",
      "Processing Record 25 of Set 8 | alice springs\n",
      "Processing Record 26 of Set 8 | sumenep\n",
      "Processing Record 27 of Set 8 | bay shore\n"
     ]
    },
    {
     "name": "stdout",
     "output_type": "stream",
     "text": [
      "Processing Record 28 of Set 8 | olafsvik\n",
      "Processing Record 29 of Set 8 | sebastian\n",
      "Processing Record 30 of Set 8 | iskateley\n",
      "City not found. Skipping...\n",
      "City not found. Skipping...\n",
      "Processing Record 31 of Set 8 | varhaug\n",
      "Processing Record 32 of Set 8 | eidfjord\n",
      "Processing Record 33 of Set 8 | ewa beach\n",
      "Processing Record 34 of Set 8 | roebourne\n",
      "Processing Record 35 of Set 8 | ust-karsk\n",
      "Processing Record 36 of Set 8 | usinsk\n",
      "Processing Record 37 of Set 8 | qaqortoq\n",
      "City not found. Skipping...\n",
      "Processing Record 38 of Set 8 | xining\n",
      "Processing Record 39 of Set 8 | orlik\n",
      "City not found. Skipping...\n",
      "Processing Record 40 of Set 8 | nishihara\n",
      "Processing Record 41 of Set 8 | manama\n",
      "Processing Record 42 of Set 8 | sabha\n",
      "Processing Record 43 of Set 8 | airai\n",
      "Processing Record 44 of Set 8 | jinka\n",
      "Processing Record 45 of Set 8 | ellensburg\n",
      "Processing Record 46 of Set 8 | padre paraiso\n",
      "Processing Record 47 of Set 8 | juazeirinho\n",
      "Processing Record 48 of Set 8 | grand gaube\n",
      "Processing Record 49 of Set 8 | mangan\n",
      "Processing Record 50 of Set 8 | burns lake\n",
      "Processing Record 1 of Set 9 | kokkola\n",
      "Processing Record 2 of Set 9 | sal rei\n",
      "Processing Record 3 of Set 9 | biak\n",
      "Processing Record 4 of Set 9 | ponta delgada\n",
      "Processing Record 5 of Set 9 | grants\n",
      "Processing Record 6 of Set 9 | bathsheba\n",
      "Processing Record 7 of Set 9 | saldanha\n",
      "Processing Record 8 of Set 9 | burgersdorp\n",
      "Processing Record 9 of Set 9 | bilibino\n",
      "Processing Record 10 of Set 9 | cheremukhovo\n",
      "Processing Record 11 of Set 9 | kizukuri\n",
      "Processing Record 12 of Set 9 | biryusinsk\n",
      "Processing Record 13 of Set 9 | port dickson\n",
      "Processing Record 14 of Set 9 | portree\n",
      "City not found. Skipping...\n",
      "Processing Record 15 of Set 9 | hun\n",
      "Processing Record 16 of Set 9 | moose factory\n",
      "Processing Record 17 of Set 9 | urengoy\n",
      "Processing Record 18 of Set 9 | guerrero negro\n",
      "Processing Record 19 of Set 9 | coahuayana\n",
      "Processing Record 20 of Set 9 | salur\n",
      "Processing Record 21 of Set 9 | ust-maya\n",
      "Processing Record 22 of Set 9 | kyra\n",
      "Processing Record 23 of Set 9 | raymond\n",
      "Processing Record 24 of Set 9 | lady frere\n",
      "Processing Record 25 of Set 9 | mpongwe\n",
      "Processing Record 26 of Set 9 | pauini\n",
      "Processing Record 27 of Set 9 | comodoro rivadavia\n",
      "Processing Record 28 of Set 9 | papara\n",
      "City not found. Skipping...\n",
      "Processing Record 29 of Set 9 | quesnel\n",
      "Processing Record 30 of Set 9 | jieshi\n",
      "Processing Record 31 of Set 9 | esperance\n",
      "Processing Record 32 of Set 9 | mosquera\n",
      "Processing Record 33 of Set 9 | mehamn\n",
      "Processing Record 34 of Set 9 | bud\n",
      "Processing Record 35 of Set 9 | quime\n",
      "Processing Record 36 of Set 9 | kapit\n",
      "Processing Record 37 of Set 9 | chikhli\n",
      "Processing Record 38 of Set 9 | merritt island\n",
      "Processing Record 39 of Set 9 | flin flon\n",
      "City not found. Skipping...\n",
      "Processing Record 40 of Set 9 | dutse\n",
      "Processing Record 41 of Set 9 | quanzhou\n",
      "Processing Record 42 of Set 9 | chowchilla\n",
      "Processing Record 43 of Set 9 | grand river south east\n",
      "Processing Record 44 of Set 9 | micheweni\n",
      "Processing Record 45 of Set 9 | pochutla\n",
      "Processing Record 46 of Set 9 | kresttsy\n",
      "Processing Record 47 of Set 9 | sioux lookout\n",
      "Processing Record 48 of Set 9 | mildura\n",
      "Processing Record 49 of Set 9 | englewood\n",
      "City not found. Skipping...\n",
      "Processing Record 50 of Set 9 | kondinskoye\n",
      "City not found. Skipping...\n",
      "City not found. Skipping...\n",
      "Processing Record 1 of Set 10 | sangar\n",
      "Processing Record 2 of Set 10 | mugumu\n",
      "Processing Record 3 of Set 10 | castrillon\n",
      "Processing Record 4 of Set 10 | flinders\n",
      "Processing Record 5 of Set 10 | kongolo\n",
      "Processing Record 6 of Set 10 | plaridel\n",
      "Processing Record 7 of Set 10 | anloga\n",
      "City not found. Skipping...\n",
      "Processing Record 8 of Set 10 | chadiza\n",
      "Processing Record 9 of Set 10 | ibra\n",
      "Processing Record 10 of Set 10 | akureyri\n",
      "Processing Record 11 of Set 10 | faya\n",
      "Processing Record 12 of Set 10 | myitkyina\n",
      "Processing Record 13 of Set 10 | leninsk\n",
      "Processing Record 14 of Set 10 | malindi\n",
      "Processing Record 15 of Set 10 | boa vista\n",
      "Processing Record 16 of Set 10 | northam\n",
      "Processing Record 17 of Set 10 | maniitsoq\n",
      "Processing Record 18 of Set 10 | tazovskiy\n",
      "Processing Record 19 of Set 10 | san luis\n",
      "Processing Record 20 of Set 10 | murud\n",
      "Processing Record 21 of Set 10 | tignere\n",
      "Processing Record 22 of Set 10 | kavieng\n",
      "Processing Record 23 of Set 10 | vikulovo\n",
      "Processing Record 24 of Set 10 | rusne\n",
      "Processing Record 25 of Set 10 | charleston\n",
      "City not found. Skipping...\n",
      "Processing Record 26 of Set 10 | naftalan\n",
      "Processing Record 27 of Set 10 | port augusta\n",
      "Processing Record 28 of Set 10 | jamkhed\n",
      "Processing Record 29 of Set 10 | viet tri\n",
      "Processing Record 30 of Set 10 | sorland\n",
      "Processing Record 31 of Set 10 | lewiston\n",
      "Processing Record 32 of Set 10 | analipsis\n",
      "Processing Record 33 of Set 10 | sabya\n",
      "Processing Record 34 of Set 10 | nantucket\n",
      "Processing Record 35 of Set 10 | xichang\n",
      "Processing Record 36 of Set 10 | jinchang\n",
      "Processing Record 37 of Set 10 | kavaratti\n",
      "Processing Record 38 of Set 10 | nyurba\n",
      "Processing Record 39 of Set 10 | smithers\n",
      "Processing Record 40 of Set 10 | bubaque\n",
      "Processing Record 41 of Set 10 | sobolevo\n",
      "Processing Record 42 of Set 10 | aquiraz\n",
      "Processing Record 43 of Set 10 | bandipur\n",
      "Processing Record 44 of Set 10 | turochak\n",
      "Processing Record 45 of Set 10 | miles city\n",
      "Processing Record 46 of Set 10 | igrim\n",
      "Processing Record 47 of Set 10 | teya\n",
      "Processing Record 48 of Set 10 | mapiri\n",
      "City not found. Skipping...\n",
      "Processing Record 49 of Set 10 | huayang\n",
      "Processing Record 50 of Set 10 | tessalit\n",
      "Processing Record 1 of Set 11 | fallon\n",
      "Processing Record 2 of Set 11 | korla\n",
      "Processing Record 3 of Set 11 | damietta\n",
      "Processing Record 4 of Set 11 | baghdad\n",
      "City not found. Skipping...\n",
      "Processing Record 5 of Set 11 | marovoay\n",
      "Processing Record 6 of Set 11 | ternate\n",
      "Processing Record 7 of Set 11 | bangkalan\n",
      "Processing Record 8 of Set 11 | kichera\n",
      "Processing Record 9 of Set 11 | banjar\n",
      "Processing Record 10 of Set 11 | kathmandu\n",
      "City not found. Skipping...\n",
      "Processing Record 11 of Set 11 | fairbanks\n",
      "Processing Record 12 of Set 11 | lucea\n",
      "Processing Record 13 of Set 11 | fortuna\n",
      "Processing Record 14 of Set 11 | oga\n",
      "Processing Record 15 of Set 11 | kismayo\n",
      "Processing Record 16 of Set 11 | taguatinga\n",
      "City not found. Skipping...\n",
      "Processing Record 17 of Set 11 | norilsk\n",
      "Processing Record 18 of Set 11 | constitucion\n",
      "Processing Record 19 of Set 11 | cockburn town\n",
      "Processing Record 20 of Set 11 | iturama\n",
      "Processing Record 21 of Set 11 | giulvaz\n",
      "Processing Record 22 of Set 11 | aksarka\n",
      "Processing Record 23 of Set 11 | dukat\n",
      "Processing Record 24 of Set 11 | san rafael\n",
      "Processing Record 25 of Set 11 | beckley\n",
      "Processing Record 26 of Set 11 | ler\n",
      "Processing Record 27 of Set 11 | komsomolskiy\n",
      "Processing Record 28 of Set 11 | mitsamiouli\n",
      "Processing Record 29 of Set 11 | outlook\n",
      "Processing Record 30 of Set 11 | lingao\n",
      "Processing Record 31 of Set 11 | santa maria\n",
      "Processing Record 32 of Set 11 | karratha\n",
      "Processing Record 33 of Set 11 | iroquois falls\n",
      "Processing Record 34 of Set 11 | morondava\n",
      "City not found. Skipping...\n",
      "Processing Record 35 of Set 11 | seymchan\n",
      "City not found. Skipping...\n",
      "City not found. Skipping...\n",
      "Processing Record 36 of Set 11 | mikhaylovka\n",
      "Processing Record 37 of Set 11 | fare\n",
      "Processing Record 38 of Set 11 | nome\n",
      "Processing Record 39 of Set 11 | ormara\n",
      "-------------------------\n",
      "Data Retrieval Complete\n",
      "-------------------------\n"
     ]
    }
   ],
   "source": [
    "\n",
    "city_name = []\n",
    "cloudinesses = []\n",
    "dates = []\n",
    "humidities = []\n",
    "lats = []\n",
    "lngs = []\n",
    "max_temps = []\n",
    "wind_speeds = []\n",
    "countries = []\n",
    "\n",
    "record_num = 0\n",
    "set_num = 1\n",
    "\n",
    "print('------------------------')\n",
    "print('Beginning Data Retrieval')\n",
    "print('------------------------')\n",
    "# loops for creating dataframe columns\n",
    "for city in cities:\n",
    "    try:\n",
    "        response = requests.get(query_url + city.replace(\" \",\"&\")).json()\n",
    "        cloudinesses.append(response['clouds']['all'])\n",
    "        countries.append(response['sys']['country'])\n",
    "        dates.append(response['dt'])\n",
    "        humidities.append(response['main']['humidity'])\n",
    "        lats.append(response['coord']['lat'])\n",
    "        lngs.append(response['coord']['lon'])\n",
    "        max_temps.append(response['main']['temp_max'])\n",
    "        wind_speeds.append(response['wind']['speed'])\n",
    "        if record_num > 49:\n",
    "            record_num = 1\n",
    "            set_num += 1\n",
    "            city_name.append(city)\n",
    "        else:\n",
    "            record_num += 1\n",
    "            city_name.append(city)\n",
    "        print(f\"Processing Record {record_num} of Set {set_num} | {city}\")\n",
    "    except Exception:\n",
    "        print(\"City not found. Skipping...\")\n",
    "\n",
    "print('-------------------------')\n",
    "print('Data Retrieval Complete')\n",
    "print('-------------------------')"
   ]
  },
  {
   "cell_type": "markdown",
   "metadata": {},
   "source": [
    "### Convert Raw Data to DataFrame\n",
    "* Export the city data into a .csv.\n",
    "* Display the DataFrame"
   ]
  },
  {
   "cell_type": "code",
   "execution_count": 7,
   "metadata": {},
   "outputs": [
    {
     "data": {
      "text/html": [
       "<div>\n",
       "<style scoped>\n",
       "    .dataframe tbody tr th:only-of-type {\n",
       "        vertical-align: middle;\n",
       "    }\n",
       "\n",
       "    .dataframe tbody tr th {\n",
       "        vertical-align: top;\n",
       "    }\n",
       "\n",
       "    .dataframe thead th {\n",
       "        text-align: right;\n",
       "    }\n",
       "</style>\n",
       "<table border=\"1\" class=\"dataframe\">\n",
       "  <thead>\n",
       "    <tr style=\"text-align: right;\">\n",
       "      <th></th>\n",
       "      <th>City</th>\n",
       "      <th>Lat</th>\n",
       "      <th>Lng</th>\n",
       "      <th>Max Temp</th>\n",
       "      <th>Humidity</th>\n",
       "      <th>Cloudiness</th>\n",
       "      <th>Wind Speed</th>\n",
       "      <th>Country</th>\n",
       "      <th>Date</th>\n",
       "    </tr>\n",
       "  </thead>\n",
       "  <tbody>\n",
       "    <tr>\n",
       "      <th>0</th>\n",
       "      <td>souillac</td>\n",
       "      <td>-20.52</td>\n",
       "      <td>57.52</td>\n",
       "      <td>64.40</td>\n",
       "      <td>93</td>\n",
       "      <td>40</td>\n",
       "      <td>4.70</td>\n",
       "      <td>MU</td>\n",
       "      <td>1604285901</td>\n",
       "    </tr>\n",
       "    <tr>\n",
       "      <th>1</th>\n",
       "      <td>taltal</td>\n",
       "      <td>-25.40</td>\n",
       "      <td>-70.48</td>\n",
       "      <td>57.52</td>\n",
       "      <td>71</td>\n",
       "      <td>6</td>\n",
       "      <td>5.73</td>\n",
       "      <td>CL</td>\n",
       "      <td>1604285901</td>\n",
       "    </tr>\n",
       "    <tr>\n",
       "      <th>2</th>\n",
       "      <td>sao jose da coroa grande</td>\n",
       "      <td>20.51</td>\n",
       "      <td>76.21</td>\n",
       "      <td>72.84</td>\n",
       "      <td>51</td>\n",
       "      <td>0</td>\n",
       "      <td>4.38</td>\n",
       "      <td>IN</td>\n",
       "      <td>1604285902</td>\n",
       "    </tr>\n",
       "    <tr>\n",
       "      <th>3</th>\n",
       "      <td>bredasdorp</td>\n",
       "      <td>-34.53</td>\n",
       "      <td>20.04</td>\n",
       "      <td>64.40</td>\n",
       "      <td>82</td>\n",
       "      <td>98</td>\n",
       "      <td>13.87</td>\n",
       "      <td>ZA</td>\n",
       "      <td>1604285902</td>\n",
       "    </tr>\n",
       "    <tr>\n",
       "      <th>4</th>\n",
       "      <td>albany</td>\n",
       "      <td>42.60</td>\n",
       "      <td>-73.97</td>\n",
       "      <td>41.00</td>\n",
       "      <td>87</td>\n",
       "      <td>76</td>\n",
       "      <td>1.99</td>\n",
       "      <td>US</td>\n",
       "      <td>1604285902</td>\n",
       "    </tr>\n",
       "  </tbody>\n",
       "</table>\n",
       "</div>"
      ],
      "text/plain": [
       "                       City    Lat    Lng  Max Temp  Humidity  Cloudiness  \\\n",
       "0                  souillac -20.52  57.52     64.40        93          40   \n",
       "1                    taltal -25.40 -70.48     57.52        71           6   \n",
       "2  sao jose da coroa grande  20.51  76.21     72.84        51           0   \n",
       "3                bredasdorp -34.53  20.04     64.40        82          98   \n",
       "4                    albany  42.60 -73.97     41.00        87          76   \n",
       "\n",
       "   Wind Speed Country        Date  \n",
       "0        4.70      MU  1604285901  \n",
       "1        5.73      CL  1604285901  \n",
       "2        4.38      IN  1604285902  \n",
       "3       13.87      ZA  1604285902  \n",
       "4        1.99      US  1604285902  "
      ]
     },
     "execution_count": 7,
     "metadata": {},
     "output_type": "execute_result"
    }
   ],
   "source": [
    "city_list = {\n",
    "    'City': city_name,\n",
    "    'Lat': lats,\n",
    "    'Lng': lngs,\n",
    "    'Max Temp': max_temps,\n",
    "    'Humidity': humidities,\n",
    "    'Cloudiness': cloudinesses,\n",
    "    'Wind Speed': wind_speeds,\n",
    "    'Country': countries,\n",
    "    'Date': dates\n",
    "}\n",
    "city_df = pd.DataFrame(weather_list)\n",
    "city_df.head()"
   ]
  },
  {
   "cell_type": "code",
   "execution_count": 12,
   "metadata": {},
   "outputs": [
    {
     "data": {
      "text/html": [
       "<div>\n",
       "<style scoped>\n",
       "    .dataframe tbody tr th:only-of-type {\n",
       "        vertical-align: middle;\n",
       "    }\n",
       "\n",
       "    .dataframe tbody tr th {\n",
       "        vertical-align: top;\n",
       "    }\n",
       "\n",
       "    .dataframe thead th {\n",
       "        text-align: right;\n",
       "    }\n",
       "</style>\n",
       "<table border=\"1\" class=\"dataframe\">\n",
       "  <thead>\n",
       "    <tr style=\"text-align: right;\">\n",
       "      <th></th>\n",
       "      <th>City</th>\n",
       "      <th>Lat</th>\n",
       "      <th>Lng</th>\n",
       "      <th>Max Temp</th>\n",
       "      <th>Humidity</th>\n",
       "      <th>Cloudiness</th>\n",
       "      <th>Wind Speed</th>\n",
       "      <th>Country</th>\n",
       "      <th>Date</th>\n",
       "    </tr>\n",
       "  </thead>\n",
       "  <tbody>\n",
       "    <tr>\n",
       "      <th>0</th>\n",
       "      <td>souillac</td>\n",
       "      <td>-20.52</td>\n",
       "      <td>57.52</td>\n",
       "      <td>64.40</td>\n",
       "      <td>93</td>\n",
       "      <td>40</td>\n",
       "      <td>4.70</td>\n",
       "      <td>MU</td>\n",
       "      <td>1604285901</td>\n",
       "    </tr>\n",
       "    <tr>\n",
       "      <th>1</th>\n",
       "      <td>taltal</td>\n",
       "      <td>-25.40</td>\n",
       "      <td>-70.48</td>\n",
       "      <td>57.52</td>\n",
       "      <td>71</td>\n",
       "      <td>6</td>\n",
       "      <td>5.73</td>\n",
       "      <td>CL</td>\n",
       "      <td>1604285901</td>\n",
       "    </tr>\n",
       "    <tr>\n",
       "      <th>2</th>\n",
       "      <td>sao jose da coroa grande</td>\n",
       "      <td>20.51</td>\n",
       "      <td>76.21</td>\n",
       "      <td>72.84</td>\n",
       "      <td>51</td>\n",
       "      <td>0</td>\n",
       "      <td>4.38</td>\n",
       "      <td>IN</td>\n",
       "      <td>1604285902</td>\n",
       "    </tr>\n",
       "    <tr>\n",
       "      <th>3</th>\n",
       "      <td>bredasdorp</td>\n",
       "      <td>-34.53</td>\n",
       "      <td>20.04</td>\n",
       "      <td>64.40</td>\n",
       "      <td>82</td>\n",
       "      <td>98</td>\n",
       "      <td>13.87</td>\n",
       "      <td>ZA</td>\n",
       "      <td>1604285902</td>\n",
       "    </tr>\n",
       "    <tr>\n",
       "      <th>4</th>\n",
       "      <td>albany</td>\n",
       "      <td>42.60</td>\n",
       "      <td>-73.97</td>\n",
       "      <td>41.00</td>\n",
       "      <td>87</td>\n",
       "      <td>76</td>\n",
       "      <td>1.99</td>\n",
       "      <td>US</td>\n",
       "      <td>1604285902</td>\n",
       "    </tr>\n",
       "  </tbody>\n",
       "</table>\n",
       "</div>"
      ],
      "text/plain": [
       "                       City    Lat    Lng  Max Temp  Humidity  Cloudiness  \\\n",
       "0                  souillac -20.52  57.52     64.40        93          40   \n",
       "1                    taltal -25.40 -70.48     57.52        71           6   \n",
       "2  sao jose da coroa grande  20.51  76.21     72.84        51           0   \n",
       "3                bredasdorp -34.53  20.04     64.40        82          98   \n",
       "4                    albany  42.60 -73.97     41.00        87          76   \n",
       "\n",
       "   Wind Speed Country        Date  \n",
       "0        4.70      MU  1604285901  \n",
       "1        5.73      CL  1604285901  \n",
       "2        4.38      IN  1604285902  \n",
       "3       13.87      ZA  1604285902  \n",
       "4        1.99      US  1604285902  "
      ]
     },
     "execution_count": 12,
     "metadata": {},
     "output_type": "execute_result"
    }
   ],
   "source": [
    "# export the dataframe to a csv\n",
    "city_df.to_csv(\"city_df.csv\")\n",
    "\n",
    "city_dataframe = pd.read_csv(\"city_df.csv\")\n",
    "\n",
    "city_dataframe = city_dataframe.drop(columns = ['Unnamed: 0'])\n",
    "\n",
    "city_dataframe.head()"
   ]
  },
  {
   "cell_type": "markdown",
   "metadata": {},
   "source": [
    "## Inspect the data and remove the cities where the humidity > 100%.\n",
    "----\n",
    "Skip this step if there are no cities that have humidity > 100%. "
   ]
  },
  {
   "cell_type": "code",
   "execution_count": null,
   "metadata": {},
   "outputs": [],
   "source": []
  },
  {
   "cell_type": "code",
   "execution_count": 15,
   "metadata": {},
   "outputs": [
    {
     "data": {
      "text/plain": [
       "100"
      ]
     },
     "execution_count": 15,
     "metadata": {},
     "output_type": "execute_result"
    }
   ],
   "source": [
    "#  Get the indices of cities that have humidity over 100%.\n",
    "any(city_dataframe['Humidity'] >100)\n",
    "city_dataframe['Humidity'].max()"
   ]
  },
  {
   "cell_type": "code",
   "execution_count": null,
   "metadata": {},
   "outputs": [],
   "source": [
    "# Make a new DataFrame equal to the city data to drop all humidity outliers by index.\n",
    "# Passing \"inplace=False\" will make a copy of the city_data DataFrame, which we call \"clean_city_data\".\n"
   ]
  },
  {
   "cell_type": "code",
   "execution_count": null,
   "metadata": {},
   "outputs": [],
   "source": [
    "\n"
   ]
  },
  {
   "cell_type": "markdown",
   "metadata": {},
   "source": [
    "## Plotting the Data\n",
    "* Use proper labeling of the plots using plot titles (including date of analysis) and axes labels.\n",
    "* Save the plotted figures as .pngs."
   ]
  },
  {
   "cell_type": "markdown",
   "metadata": {},
   "source": [
    "## Latitude vs. Temperature Plot"
   ]
  },
  {
   "cell_type": "code",
   "execution_count": 19,
   "metadata": {
    "scrolled": true
   },
   "outputs": [
    {
     "data": {
      "image/png": "[encoded data removed]",
      "text/plain": [
       "<Figure size 432x288 with 1 Axes>"
      ]
     },
     "metadata": {
      "needs_background": "light"
     },
     "output_type": "display_data"
    },
    {
     "data": {
      "text/plain": [
       "<Figure size 432x288 with 0 Axes>"
      ]
     },
     "metadata": {},
     "output_type": "display_data"
    }
   ],
   "source": [
    "plt.scatter(city_dataframe['Lat'], city_dataframe['Max Temp'], marker = 'o', color = 'indigo',\n",
    "           edgecolor ='black')\n",
    "plt.title('Latitude v.s. Max Temperature')\n",
    "plt.ylabel('Max Temperature')\n",
    "plt.xlabel('Latitude')\n",
    "plt.tight_layout()\n",
    "plt.show()\n",
    "plt.savefig(\"Latitude vs Temperature.png\")"
   ]
  },
  {
   "cell_type": "markdown",
   "metadata": {},
   "source": [
    "## Latitude vs. Humidity Plot"
   ]
  },
  {
   "cell_type": "code",
   "execution_count": 21,
   "metadata": {},
   "outputs": [
    {
     "data": {
      "image/png": "[encoded data removed]",
      "text/plain": [
       "<Figure size 432x288 with 1 Axes>"
      ]
     },
     "metadata": {
      "needs_background": "light"
     },
     "output_type": "display_data"
    },
    {
     "data": {
      "text/plain": [
       "<Figure size 432x288 with 0 Axes>"
      ]
     },
     "metadata": {},
     "output_type": "display_data"
    }
   ],
   "source": [
    "plt.scatter(city_dataframe['Lat'], city_dataframe['Humidity'], marker = 'o', color = 'indigo',\n",
    "           edgecolor ='black')\n",
    "plt.title('Latitude v.s. Humidity')\n",
    "plt.ylabel('Humidity')\n",
    "plt.xlabel('Latitude')\n",
    "plt.tight_layout()\n",
    "plt.show()\n",
    "plt.savefig(\"Latitude vs Humidity.png\")"
   ]
  },
  {
   "cell_type": "markdown",
   "metadata": {},
   "source": [
    "## Latitude vs. Cloudiness Plot"
   ]
  },
  {
   "cell_type": "code",
   "execution_count": 22,
   "metadata": {},
   "outputs": [
    {
     "data": {
      "image/png": "[encoded data removed]",
      "text/plain": [
       "<Figure size 432x288 with 1 Axes>"
      ]
     },
     "metadata": {
      "needs_background": "light"
     },
     "output_type": "display_data"
    },
    {
     "data": {
      "text/plain": [
       "<Figure size 432x288 with 0 Axes>"
      ]
     },
     "metadata": {},
     "output_type": "display_data"
    }
   ],
   "source": [
    "plt.scatter(city_dataframe['Lat'], city_dataframe['Cloudiness'], marker = 'o', color = 'indigo',\n",
    "           edgecolor ='black')\n",
    "plt.title('Latitude v.s. Cloudiness')\n",
    "plt.ylabel('Cloudiness')\n",
    "plt.xlabel('Latitude')\n",
    "plt.tight_layout()\n",
    "plt.show()\n",
    "plt.savefig(\"Latitude vs Cloudiness.png\")"
   ]
  },
  {
   "cell_type": "markdown",
   "metadata": {},
   "source": [
    "## Latitude vs. Wind Speed Plot"
   ]
  },
  {
   "cell_type": "code",
   "execution_count": 23,
   "metadata": {},
   "outputs": [
    {
     "data": {
      "image/png": "[encoded data removed]",
      "text/plain": [
       "<Figure size 432x288 with 1 Axes>"
      ]
     },
     "metadata": {
      "needs_background": "light"
     },
     "output_type": "display_data"
    },
    {
     "data": {
      "text/plain": [
       "<Figure size 432x288 with 0 Axes>"
      ]
     },
     "metadata": {},
     "output_type": "display_data"
    }
   ],
   "source": [
    "plt.scatter(city_dataframe['Lat'], city_dataframe['Wind Speed'], marker = 'o', color = 'indigo',\n",
    "           edgecolor ='black')\n",
    "plt.title('Latitude v.s. Wind Speed')\n",
    "plt.ylabel('Wind Speed')\n",
    "plt.xlabel('Latitude')\n",
    "plt.tight_layout()\n",
    "plt.show()\n",
    "plt.savefig(\"Latitude vs Wind Speed.png\")"
   ]
  },
  {
   "cell_type": "markdown",
   "metadata": {},
   "source": [
    "## Linear Regression"
   ]
  },
  {
   "cell_type": "code",
   "execution_count": 35,
   "metadata": {},
   "outputs": [
    {
     "data": {
      "text/html": [
       "<div>\n",
       "<style scoped>\n",
       "    .dataframe tbody tr th:only-of-type {\n",
       "        vertical-align: middle;\n",
       "    }\n",
       "\n",
       "    .dataframe tbody tr th {\n",
       "        vertical-align: top;\n",
       "    }\n",
       "\n",
       "    .dataframe thead th {\n",
       "        text-align: right;\n",
       "    }\n",
       "</style>\n",
       "<table border=\"1\" class=\"dataframe\">\n",
       "  <thead>\n",
       "    <tr style=\"text-align: right;\">\n",
       "      <th></th>\n",
       "      <th>City</th>\n",
       "      <th>Lat</th>\n",
       "      <th>Lng</th>\n",
       "      <th>Max Temp</th>\n",
       "      <th>Humidity</th>\n",
       "      <th>Cloudiness</th>\n",
       "      <th>Wind Speed</th>\n",
       "      <th>Country</th>\n",
       "      <th>Date</th>\n",
       "    </tr>\n",
       "  </thead>\n",
       "  <tbody>\n",
       "    <tr>\n",
       "      <th>2</th>\n",
       "      <td>sao jose da coroa grande</td>\n",
       "      <td>20.51</td>\n",
       "      <td>76.21</td>\n",
       "      <td>72.84</td>\n",
       "      <td>51</td>\n",
       "      <td>0</td>\n",
       "      <td>4.38</td>\n",
       "      <td>IN</td>\n",
       "      <td>1604285902</td>\n",
       "    </tr>\n",
       "    <tr>\n",
       "      <th>4</th>\n",
       "      <td>albany</td>\n",
       "      <td>42.60</td>\n",
       "      <td>-73.97</td>\n",
       "      <td>41.00</td>\n",
       "      <td>87</td>\n",
       "      <td>76</td>\n",
       "      <td>1.99</td>\n",
       "      <td>US</td>\n",
       "      <td>1604285902</td>\n",
       "    </tr>\n",
       "    <tr>\n",
       "      <th>5</th>\n",
       "      <td>pithapuram</td>\n",
       "      <td>17.12</td>\n",
       "      <td>82.27</td>\n",
       "      <td>80.60</td>\n",
       "      <td>83</td>\n",
       "      <td>20</td>\n",
       "      <td>8.05</td>\n",
       "      <td>IN</td>\n",
       "      <td>1604285902</td>\n",
       "    </tr>\n",
       "    <tr>\n",
       "      <th>6</th>\n",
       "      <td>gat</td>\n",
       "      <td>31.61</td>\n",
       "      <td>34.76</td>\n",
       "      <td>69.01</td>\n",
       "      <td>78</td>\n",
       "      <td>100</td>\n",
       "      <td>2.53</td>\n",
       "      <td>IL</td>\n",
       "      <td>1604285882</td>\n",
       "    </tr>\n",
       "    <tr>\n",
       "      <th>7</th>\n",
       "      <td>lompoc</td>\n",
       "      <td>34.64</td>\n",
       "      <td>-120.46</td>\n",
       "      <td>64.99</td>\n",
       "      <td>72</td>\n",
       "      <td>1</td>\n",
       "      <td>5.82</td>\n",
       "      <td>US</td>\n",
       "      <td>1604285902</td>\n",
       "    </tr>\n",
       "    <tr>\n",
       "      <th>...</th>\n",
       "      <td>...</td>\n",
       "      <td>...</td>\n",
       "      <td>...</td>\n",
       "      <td>...</td>\n",
       "      <td>...</td>\n",
       "      <td>...</td>\n",
       "      <td>...</td>\n",
       "      <td>...</td>\n",
       "      <td>...</td>\n",
       "    </tr>\n",
       "    <tr>\n",
       "      <th>532</th>\n",
       "      <td>iroquois falls</td>\n",
       "      <td>40.75</td>\n",
       "      <td>-87.83</td>\n",
       "      <td>32.00</td>\n",
       "      <td>80</td>\n",
       "      <td>1</td>\n",
       "      <td>8.05</td>\n",
       "      <td>US</td>\n",
       "      <td>1604285958</td>\n",
       "    </tr>\n",
       "    <tr>\n",
       "      <th>534</th>\n",
       "      <td>seymchan</td>\n",
       "      <td>62.88</td>\n",
       "      <td>152.43</td>\n",
       "      <td>15.76</td>\n",
       "      <td>94</td>\n",
       "      <td>99</td>\n",
       "      <td>1.86</td>\n",
       "      <td>RU</td>\n",
       "      <td>1604285959</td>\n",
       "    </tr>\n",
       "    <tr>\n",
       "      <th>535</th>\n",
       "      <td>mikhaylovka</td>\n",
       "      <td>50.06</td>\n",
       "      <td>43.24</td>\n",
       "      <td>44.01</td>\n",
       "      <td>83</td>\n",
       "      <td>91</td>\n",
       "      <td>3.00</td>\n",
       "      <td>RU</td>\n",
       "      <td>1604285959</td>\n",
       "    </tr>\n",
       "    <tr>\n",
       "      <th>537</th>\n",
       "      <td>nome</td>\n",
       "      <td>64.50</td>\n",
       "      <td>-165.41</td>\n",
       "      <td>19.40</td>\n",
       "      <td>79</td>\n",
       "      <td>1</td>\n",
       "      <td>3.65</td>\n",
       "      <td>US</td>\n",
       "      <td>1604285959</td>\n",
       "    </tr>\n",
       "    <tr>\n",
       "      <th>538</th>\n",
       "      <td>ormara</td>\n",
       "      <td>25.21</td>\n",
       "      <td>64.64</td>\n",
       "      <td>77.16</td>\n",
       "      <td>28</td>\n",
       "      <td>0</td>\n",
       "      <td>5.30</td>\n",
       "      <td>PK</td>\n",
       "      <td>1604285959</td>\n",
       "    </tr>\n",
       "  </tbody>\n",
       "</table>\n",
       "<p>379 rows × 9 columns</p>\n",
       "</div>"
      ],
      "text/plain": [
       "                         City    Lat     Lng  Max Temp  Humidity  Cloudiness  \\\n",
       "2    sao jose da coroa grande  20.51   76.21     72.84        51           0   \n",
       "4                      albany  42.60  -73.97     41.00        87          76   \n",
       "5                  pithapuram  17.12   82.27     80.60        83          20   \n",
       "6                         gat  31.61   34.76     69.01        78         100   \n",
       "7                      lompoc  34.64 -120.46     64.99        72           1   \n",
       "..                        ...    ...     ...       ...       ...         ...   \n",
       "532            iroquois falls  40.75  -87.83     32.00        80           1   \n",
       "534                  seymchan  62.88  152.43     15.76        94          99   \n",
       "535               mikhaylovka  50.06   43.24     44.01        83          91   \n",
       "537                      nome  64.50 -165.41     19.40        79           1   \n",
       "538                    ormara  25.21   64.64     77.16        28           0   \n",
       "\n",
       "     Wind Speed Country        Date  \n",
       "2          4.38      IN  1604285902  \n",
       "4          1.99      US  1604285902  \n",
       "5          8.05      IN  1604285902  \n",
       "6          2.53      IL  1604285882  \n",
       "7          5.82      US  1604285902  \n",
       "..          ...     ...         ...  \n",
       "532        8.05      US  1604285958  \n",
       "534        1.86      RU  1604285959  \n",
       "535        3.00      RU  1604285959  \n",
       "537        3.65      US  1604285959  \n",
       "538        5.30      PK  1604285959  \n",
       "\n",
       "[379 rows x 9 columns]"
      ]
     },
     "execution_count": 35,
     "metadata": {},
     "output_type": "execute_result"
    }
   ],
   "source": [
    "Lat_North"
   ]
  },
  {
   "cell_type": "markdown",
   "metadata": {},
   "source": [
    "####  Northern Hemisphere - Max Temp vs. Latitude Linear Regression"
   ]
  },
  {
   "cell_type": "code",
   "execution_count": 42,
   "metadata": {},
   "outputs": [
    {
     "name": "stdout",
     "output_type": "stream",
     "text": [
      "The correlation between both factors is -0.85\n",
      "The r-squared is: -0.8478678482676358\n",
      "The equation of the regression line is: y = -0.98x + 90.17\n"
     ]
    },
    {
     "data": {
      "image/png": "[encoded data removed]",
      "text/plain": [
       "<Figure size 432x288 with 1 Axes>"
      ]
     },
     "metadata": {
      "needs_background": "light"
     },
     "output_type": "display_data"
    }
   ],
   "source": [
    "Lat_North = city_dataframe[city_dataframe['Lat']>= 0]\n",
    "correlation = st.pearsonr(Lat_North['Lat'], Lat_North['Max Temp'])\n",
    "print(f\"The correlation between both factors is {round(correlation[0],2)}\")\n",
    "\n",
    "x_value = Lat_North['Lat']\n",
    "y_value = Lat_North['Max Temp']\n",
    "(slope, intercept, rvalue, pvalue, stderr) = st.linregress(x_value, y_value)\n",
    "regress_values = x_value * slope + intercept\n",
    "line_eq = f'y = {str(round(slope,2))}x + {str(round(intercept,2))}'\n",
    "plt.scatter(x_value,y_value)\n",
    "plt.plot(x_value,regress_values,\"r-\")\n",
    "plt.annotate(line_eq,(17,37),fontsize=15,color=\"red\")\n",
    "plt.title(\"Latitude vs. Max Temperature\")\n",
    "plt.xlabel(\"Latitude\")\n",
    "plt.ylabel(\"Max Temp\")\n",
    "print(f\"The r-squared is: {rvalue}\")\n",
    "print(f\"The equation of the regression line is: {line_eq}\")\n",
    "plt.show()"
   ]
  },
  {
   "cell_type": "markdown",
   "metadata": {},
   "source": [
    "####  Southern Hemisphere - Max Temp vs. Latitude Linear Regression"
   ]
  },
  {
   "cell_type": "code",
   "execution_count": 43,
   "metadata": {},
   "outputs": [
    {
     "name": "stdout",
     "output_type": "stream",
     "text": [
      "The correlation between both factors is 0.59\n",
      "The r-squared is: 0.5922901496471259\n",
      "The equation of the regression line is: y = 0.54x + 81.65\n"
     ]
    },
    {
     "data": {
      "image/png": "[encoded data removed]",
      "text/plain": [
       "<Figure size 432x288 with 1 Axes>"
      ]
     },
     "metadata": {
      "needs_background": "light"
     },
     "output_type": "display_data"
    }
   ],
   "source": [
    "Lat_South = city_dataframe[city_dataframe['Lat']< 0]\n",
    "correlation = st.pearsonr(Lat_South['Lat'], Lat_South['Max Temp'])\n",
    "print(f\"The correlation between both factors is {round(correlation[0],2)}\")\n",
    "\n",
    "x_value = Lat_South['Lat']\n",
    "y_value = Lat_South['Max Temp']\n",
    "(slope, intercept, rvalue, pvalue, stderr) = st.linregress(x_value, y_value)\n",
    "regress_values = x_value * slope + intercept\n",
    "line_eq = f'y = {str(round(slope,2))}x + {str(round(intercept,2))}'\n",
    "plt.scatter(x_value,y_value)\n",
    "plt.plot(x_value,regress_values,\"r-\")\n",
    "plt.annotate(line_eq,(17,37),fontsize=15,color=\"red\")\n",
    "plt.title(\"Latitude vs. Max Temperature\")\n",
    "plt.xlabel(\"Latitude\")\n",
    "plt.ylabel(\"Max Temp\")\n",
    "print(f\"The r-squared is: {rvalue}\")\n",
    "print(f\"The equation of the regression line is: {line_eq}\")\n",
    "plt.show()"
   ]
  },
  {
   "cell_type": "markdown",
   "metadata": {},
   "source": [
    "####  Northern Hemisphere - Humidity (%) vs. Latitude Linear Regression"
   ]
  },
  {
   "cell_type": "code",
   "execution_count": 44,
   "metadata": {},
   "outputs": [
    {
     "name": "stdout",
     "output_type": "stream",
     "text": [
      "The correlation between both factors is 0.38\n",
      "The r-squared is: 0.3816641999145706\n",
      "The equation of the regression line is: y = 0.42x + 55.32\n"
     ]
    },
    {
     "data": {
      "image/png": "[encoded data removed]",
      "text/plain": [
       "<Figure size 432x288 with 1 Axes>"
      ]
     },
     "metadata": {
      "needs_background": "light"
     },
     "output_type": "display_data"
    }
   ],
   "source": [
    "Lat_North = city_dataframe[city_dataframe['Lat']>= 0]\n",
    "correlation = st.pearsonr(Lat_North['Lat'], Lat_North['Humidity'])\n",
    "print(f\"The correlation between both factors is {round(correlation[0],2)}\")\n",
    "\n",
    "x_value = Lat_North['Lat']\n",
    "y_value = Lat_North['Humidity']\n",
    "(slope, intercept, rvalue, pvalue, stderr) = st.linregress(x_value, y_value)\n",
    "regress_values = x_value * slope + intercept\n",
    "line_eq = f'y = {str(round(slope,2))}x + {str(round(intercept,2))}'\n",
    "plt.scatter(x_value,y_value)\n",
    "plt.plot(x_value,regress_values,\"r-\")\n",
    "plt.annotate(line_eq,(17,37),fontsize=15,color=\"red\")\n",
    "plt.title(\"Latitude vs. Humidity (%)\")\n",
    "plt.xlabel(\"Latitude\")\n",
    "plt.ylabel(\"Humidity (%)\")\n",
    "print(f\"The r-squared is: {rvalue}\")\n",
    "print(f\"The equation of the regression line is: {line_eq}\")\n",
    "plt.show()"
   ]
  },
  {
   "cell_type": "markdown",
   "metadata": {},
   "source": [
    "####  Southern Hemisphere - Humidity (%) vs. Latitude Linear Regression"
   ]
  },
  {
   "cell_type": "code",
   "execution_count": 46,
   "metadata": {},
   "outputs": [
    {
     "name": "stdout",
     "output_type": "stream",
     "text": [
      "The correlation between both factors is 0.03\n",
      "The r-squared is: 0.029992867177303265\n",
      "The equation of the regression line is: y = 0.04x + 72.96\n"
     ]
    },
    {
     "data": {
      "image/png": "[encoded data removed]",
      "text/plain": [
       "<Figure size 432x288 with 1 Axes>"
      ]
     },
     "metadata": {
      "needs_background": "light"
     },
     "output_type": "display_data"
    }
   ],
   "source": [
    "Lat_South = city_dataframe[city_dataframe['Lat']< 0]\n",
    "correlation = st.pearsonr(Lat_South['Lat'], Lat_South['Humidity'])\n",
    "print(f\"The correlation between both factors is {round(correlation[0],2)}\")\n",
    "\n",
    "x_value = Lat_South['Lat']\n",
    "y_value = Lat_South['Humidity']\n",
    "(slope, intercept, rvalue, pvalue, stderr) = st.linregress(x_value, y_value)\n",
    "regress_values = x_value * slope + intercept\n",
    "line_eq = f'y = {str(round(slope,2))}x + {str(round(intercept,2))}'\n",
    "plt.scatter(x_value,y_value)\n",
    "plt.plot(x_value,regress_values,\"r-\")\n",
    "plt.annotate(line_eq,(17,37),fontsize=15,color=\"red\")\n",
    "plt.title(\"Latitude vs. Humidity (%)\")\n",
    "plt.xlabel(\"Latitude\")\n",
    "plt.ylabel(\"Humidity (%)\")\n",
    "print(f\"The r-squared is: {rvalue}\")\n",
    "print(f\"The equation of the regression line is: {line_eq}\")\n",
    "plt.show()"
   ]
  },
  {
   "cell_type": "markdown",
   "metadata": {},
   "source": [
    "####  Northern Hemisphere - Cloudiness (%) vs. Latitude Linear Regression"
   ]
  },
  {
   "cell_type": "code",
   "execution_count": 47,
   "metadata": {},
   "outputs": [
    {
     "name": "stdout",
     "output_type": "stream",
     "text": [
      "The correlation between both factors is 0.24\n",
      "The r-squared is: 0.24494631686343935\n",
      "The equation of the regression line is: y = 0.52x + 26.47\n"
     ]
    },
    {
     "data": {
      "image/png": "[encoded data removed]",
      "text/plain": [
       "<Figure size 432x288 with 1 Axes>"
      ]
     },
     "metadata": {
      "needs_background": "light"
     },
     "output_type": "display_data"
    }
   ],
   "source": [
    "Lat_North = city_dataframe[city_dataframe['Lat']>= 0]\n",
    "correlation = st.pearsonr(Lat_North['Lat'], Lat_North['Cloudiness'])\n",
    "print(f\"The correlation between both factors is {round(correlation[0],2)}\")\n",
    "\n",
    "x_value = Lat_North['Lat']\n",
    "y_value = Lat_North['Cloudiness']\n",
    "(slope, intercept, rvalue, pvalue, stderr) = st.linregress(x_value, y_value)\n",
    "regress_values = x_value * slope + intercept\n",
    "line_eq = f'y = {str(round(slope,2))}x + {str(round(intercept,2))}'\n",
    "plt.scatter(x_value,y_value)\n",
    "plt.plot(x_value,regress_values,\"r-\")\n",
    "plt.annotate(line_eq,(17,37),fontsize=15,color=\"red\")\n",
    "plt.title(\"Latitude vs. Cloudiness (%)\")\n",
    "plt.xlabel(\"Latitude\")\n",
    "plt.ylabel(\"Cloudiness (%)\")\n",
    "print(f\"The r-squared is: {rvalue}\")\n",
    "print(f\"The equation of the regression line is: {line_eq}\")\n",
    "plt.show()"
   ]
  },
  {
   "cell_type": "markdown",
   "metadata": {},
   "source": [
    "####  Southern Hemisphere - Cloudiness (%) vs. Latitude Linear Regression"
   ]
  },
  {
   "cell_type": "code",
   "execution_count": 49,
   "metadata": {},
   "outputs": [
    {
     "name": "stdout",
     "output_type": "stream",
     "text": [
      "The correlation between both factors is 0.21\n",
      "The r-squared is: 0.2076829789216378\n",
      "The equation of the regression line is: y = 0.59x + 68.45\n"
     ]
    },
    {
     "data": {
      "image/png": "[encoded data removed]",
      "text/plain": [
       "<Figure size 432x288 with 1 Axes>"
      ]
     },
     "metadata": {
      "needs_background": "light"
     },
     "output_type": "display_data"
    }
   ],
   "source": [
    "Lat_South = city_dataframe[city_dataframe['Lat']< 0]\n",
    "correlation = st.pearsonr(Lat_South['Lat'], Lat_South['Cloudiness'])\n",
    "print(f\"The correlation between both factors is {round(correlation[0],2)}\")\n",
    "\n",
    "x_value = Lat_South['Lat']\n",
    "y_value = Lat_South['Cloudiness']\n",
    "(slope, intercept, rvalue, pvalue, stderr) = st.linregress(x_value, y_value)\n",
    "regress_values = x_value * slope + intercept\n",
    "line_eq = f'y = {str(round(slope,2))}x + {str(round(intercept,2))}'\n",
    "plt.scatter(x_value,y_value)\n",
    "plt.plot(x_value,regress_values,\"r-\")\n",
    "plt.annotate(line_eq,(17,37),fontsize=15,color=\"red\")\n",
    "plt.title(\"Latitude vs. Cloudiness (%)\")\n",
    "plt.xlabel(\"Latitude\")\n",
    "plt.ylabel(\"Cloudiness (%)\")\n",
    "print(f\"The r-squared is: {rvalue}\")\n",
    "print(f\"The equation of the regression line is: {line_eq}\")\n",
    "plt.show()"
   ]
  },
  {
   "cell_type": "markdown",
   "metadata": {},
   "source": [
    "####  Northern Hemisphere - Wind Speed (mph) vs. Latitude Linear Regression"
   ]
  },
  {
   "cell_type": "code",
   "execution_count": 51,
   "metadata": {},
   "outputs": [
    {
     "name": "stdout",
     "output_type": "stream",
     "text": [
      "The correlation between both factors is 0.31\n",
      "The r-squared is: 0.31212848824524564\n",
      "The equation of the regression line is: y = 0.1x + 3.88\n"
     ]
    },
    {
     "data": {
      "image/png": "[encoded data removed]",
      "text/plain": [
       "<Figure size 432x288 with 1 Axes>"
      ]
     },
     "metadata": {
      "needs_background": "light"
     },
     "output_type": "display_data"
    }
   ],
   "source": [
    "Lat_North = city_dataframe[city_dataframe['Lat']>= 0]\n",
    "correlation = st.pearsonr(Lat_North['Lat'], Lat_North['Wind Speed'])\n",
    "print(f\"The correlation between both factors is {round(correlation[0],2)}\")\n",
    "\n",
    "x_value = Lat_North['Lat']\n",
    "y_value = Lat_North['Wind Speed']\n",
    "(slope, intercept, rvalue, pvalue, stderr) = st.linregress(x_value, y_value)\n",
    "regress_values = x_value * slope + intercept\n",
    "line_eq = f'y = {str(round(slope,2))}x + {str(round(intercept,2))}'\n",
    "plt.scatter(x_value,y_value)\n",
    "plt.plot(x_value,regress_values,\"r-\")\n",
    "plt.annotate(line_eq,(17,37),fontsize=15,color=\"red\")\n",
    "plt.title(\"Latitude vs. Wind Speed (mph)\")\n",
    "plt.xlabel(\"Latitude\")\n",
    "plt.ylabel(\"Wind Speed (mph)\")\n",
    "print(f\"The r-squared is: {rvalue}\")\n",
    "print(f\"The equation of the regression line is: {line_eq}\")\n",
    "plt.show()"
   ]
  },
  {
   "cell_type": "markdown",
   "metadata": {},
   "source": [
    "####  Southern Hemisphere - Wind Speed (mph) vs. Latitude Linear Regression"
   ]
  },
  {
   "cell_type": "code",
   "execution_count": 52,
   "metadata": {},
   "outputs": [
    {
     "name": "stdout",
     "output_type": "stream",
     "text": [
      "The correlation between both factors is -0.17\n",
      "The r-squared is: -0.1689563194301004\n",
      "The equation of the regression line is: y = -0.06x + 6.22\n"
     ]
    },
    {
     "data": {
      "image/png": "[encoded data removed]",
      "text/plain": [
       "<Figure size 432x288 with 1 Axes>"
      ]
     },
     "metadata": {
      "needs_background": "light"
     },
     "output_type": "display_data"
    }
   ],
   "source": [
    "Lat_South = city_dataframe[city_dataframe['Lat']< 0]\n",
    "correlation = st.pearsonr(Lat_South['Lat'], Lat_South['Wind Speed'])\n",
    "print(f\"The correlation between both factors is {round(correlation[0],2)}\")\n",
    "\n",
    "x_value = Lat_South['Lat']\n",
    "y_value = Lat_South['Wind Speed']\n",
    "(slope, intercept, rvalue, pvalue, stderr) = st.linregress(x_value, y_value)\n",
    "regress_values = x_value * slope + intercept\n",
    "line_eq = f'y = {str(round(slope,2))}x + {str(round(intercept,2))}'\n",
    "plt.scatter(x_value,y_value)\n",
    "plt.plot(x_value,regress_values,\"r-\")\n",
    "plt.annotate(line_eq,(17,37),fontsize=15,color=\"red\")\n",
    "plt.title(\"Latitude vs. Wind Speed (mph)\")\n",
    "plt.xlabel(\"Latitude\")\n",
    "plt.ylabel(\"Wind Speed (mph)\")\n",
    "print(f\"The r-squared is: {rvalue}\")\n",
    "print(f\"The equation of the regression line is: {line_eq}\")\n",
    "plt.show()"
   ]
  },
  {
   "cell_type": "code",
   "execution_count": null,
   "metadata": {},
   "outputs": [],
   "source": []
  },
  {
   "cell_type": "code",
   "execution_count": null,
   "metadata": {},
   "outputs": [],
   "source": []
  },
  {
   "cell_type": "code",
   "execution_count": null,
   "metadata": {},
   "outputs": [],
   "source": []
  }
 ],
 "metadata": {
  "anaconda-cloud": {},
  "kernel_info": {
   "name": "python3"
  },
  "kernelspec": {
   "display_name": "Python [conda env:PythonData] *",
   "language": "python",
   "name": "conda-env-PythonData-py"
  },
  "language_info": {
   "codemirror_mode": {
    "name": "ipython",
    "version": 3
   },
   "file_extension": ".py",
   "mimetype": "text/x-python",
   "name": "python",
   "nbconvert_exporter": "python",
   "pygments_lexer": "ipython3",
   "version": "3.6.12"
  },
  "latex_envs": {
   "LaTeX_envs_menu_present": true,
   "autoclose": false,
   "autocomplete": true,
   "bibliofile": "biblio.bib",
   "cite_by": "apalike",
   "current_citInitial": 1,
   "eqLabelWithNumbers": true,
   "eqNumInitial": 1,
   "hotkeys": {
    "equation": "Ctrl-E",
    "itemize": "Ctrl-I"
   },
   "labels_anchors": false,
   "latex_user_defs": false,
   "report_style_numbering": false,
   "user_envs_cfg": false
  },
  "nteract": {
   "version": "0.12.3"
  }
 },
 "nbformat": 4,
 "nbformat_minor": 2
}
